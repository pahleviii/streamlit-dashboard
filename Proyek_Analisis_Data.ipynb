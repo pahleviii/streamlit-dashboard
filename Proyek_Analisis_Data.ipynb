{
  "cells": [
    {
      "cell_type": "markdown",
      "metadata": {
        "id": "view-in-github",
        "colab_type": "text"
      },
      "source": [
        "<a href=\"https://colab.research.google.com/github/pahleviii/streamlit-dashboard/blob/main/Proyek_Analisis_Data.ipynb\" target=\"_parent\"><img src=\"https://colab.research.google.com/assets/colab-badge.svg\" alt=\"Open In Colab\"/></a>"
      ]
    },
    {
      "cell_type": "markdown",
      "metadata": {
        "id": "H9wADwK78DCz"
      },
      "source": [
        "# Proyek Analisis Data: [Ecommerce Public Dataset]\n",
        "- **Nama:** [Reza Pahlevi]\n",
        "- **Email:** [ \tmc284d5y2330@student.devacademy.id]\n",
        "- **ID Dicoding:** [MC284D5Y2330]"
      ]
    },
    {
      "cell_type": "markdown",
      "metadata": {
        "id": "eE0raob58DC0"
      },
      "source": [
        "## Menentukan Pertanyaan Bisnis"
      ]
    },
    {
      "cell_type": "markdown",
      "metadata": {
        "id": "GmQeQ5YF8DC0"
      },
      "source": [
        "1. Bagaimana pengaruh jumlah foto produk terhadap rata-rata panjang deskripsi produk dalam kategori tertentu selama kuartal pertama tahun 2025?\n",
        "\n",
        "2. Produk dari kategori mana yang memiliki rata-rata berat tertinggi, dan bagaimana hal ini memengaruhi biaya pengiriman selama enam bulan terakhir?"
      ]
    },
    {
      "cell_type": "markdown",
      "metadata": {
        "id": "H-z4QGlO8DC1"
      },
      "source": [
        "## Import Semua Packages/Library yang Digunakan"
      ]
    },
    {
      "cell_type": "code",
      "execution_count": 15,
      "metadata": {
        "id": "FVYwaObI8DC1"
      },
      "outputs": [],
      "source": [
        "import matplotlib\n",
        "import seaborn as sns\n",
        "import pandas as pd"
      ]
    },
    {
      "cell_type": "markdown",
      "metadata": {
        "id": "h_Sh51Xy8DC1"
      },
      "source": [
        "## Data Wrangling"
      ]
    },
    {
      "cell_type": "markdown",
      "metadata": {
        "id": "sXU2GBYu8DC1"
      },
      "source": [
        "### Gathering Data"
      ]
    },
    {
      "cell_type": "code",
      "source": [
        "import pandas as pd\n",
        "\n",
        "product_df = pd.read_csv(\"/content/olist_products_dataset.csv\")\n",
        "orders_df = pd.read_csv(\"/content/olist_orders_dataset.csv\")\n",
        "\n",
        "new_order_df = pd.merge(\n",
        "    left=product_df,\n",
        "    right=orders_df,\n",
        "    how=\"inner\",\n",
        "    left_on=\"product_id\",\n",
        "    right_on=\"order_id\"\n",
        ")\n",
        "new_order_df.to_csv(\"all_data.csv\", index=False)"
      ],
      "metadata": {
        "id": "qsw8mE8kCWG5"
      },
      "execution_count": 16,
      "outputs": []
    },
    {
      "cell_type": "markdown",
      "source": [
        "**Insight:**\n",
        "1. Data diambil dari dua file CSV: olist_products_dataset.csv dan olist_orders_dataset.csv.\n",
        "\n",
        "2. Menggunakan metode pd.merge(), kedua DataFrame digabungkan berdasarkan ID produk dan ID pemesanan."
      ],
      "metadata": {
        "id": "MMi6xGaDkbCi"
      }
    },
    {
      "cell_type": "markdown",
      "metadata": {
        "id": "FHSiqaZp8DC1"
      },
      "source": [
        "### Assessing Data"
      ]
    },
    {
      "cell_type": "code",
      "source": [
        "import pandas as pd\n",
        "product_df = pd.read_csv(\"/content/olist_products_dataset.csv\")\n",
        "\n",
        "product_df.isnull().sum()\n",
        "\n"
      ],
      "metadata": {
        "id": "ax-3tEjc9Cj1",
        "colab": {
          "base_uri": "https://localhost:8080/",
          "height": 366
        },
        "outputId": "79e6bc3b-f9d4-4151-d4ea-8f10bd3f263b"
      },
      "execution_count": 17,
      "outputs": [
        {
          "output_type": "execute_result",
          "data": {
            "text/plain": [
              "product_id                      0\n",
              "product_category_name         610\n",
              "product_name_lenght           610\n",
              "product_description_lenght    610\n",
              "product_photos_qty            610\n",
              "product_weight_g                2\n",
              "product_length_cm               2\n",
              "product_height_cm               2\n",
              "product_width_cm                2\n",
              "dtype: int64"
            ],
            "text/html": [
              "<div>\n",
              "<style scoped>\n",
              "    .dataframe tbody tr th:only-of-type {\n",
              "        vertical-align: middle;\n",
              "    }\n",
              "\n",
              "    .dataframe tbody tr th {\n",
              "        vertical-align: top;\n",
              "    }\n",
              "\n",
              "    .dataframe thead th {\n",
              "        text-align: right;\n",
              "    }\n",
              "</style>\n",
              "<table border=\"1\" class=\"dataframe\">\n",
              "  <thead>\n",
              "    <tr style=\"text-align: right;\">\n",
              "      <th></th>\n",
              "      <th>0</th>\n",
              "    </tr>\n",
              "  </thead>\n",
              "  <tbody>\n",
              "    <tr>\n",
              "      <th>product_id</th>\n",
              "      <td>0</td>\n",
              "    </tr>\n",
              "    <tr>\n",
              "      <th>product_category_name</th>\n",
              "      <td>610</td>\n",
              "    </tr>\n",
              "    <tr>\n",
              "      <th>product_name_lenght</th>\n",
              "      <td>610</td>\n",
              "    </tr>\n",
              "    <tr>\n",
              "      <th>product_description_lenght</th>\n",
              "      <td>610</td>\n",
              "    </tr>\n",
              "    <tr>\n",
              "      <th>product_photos_qty</th>\n",
              "      <td>610</td>\n",
              "    </tr>\n",
              "    <tr>\n",
              "      <th>product_weight_g</th>\n",
              "      <td>2</td>\n",
              "    </tr>\n",
              "    <tr>\n",
              "      <th>product_length_cm</th>\n",
              "      <td>2</td>\n",
              "    </tr>\n",
              "    <tr>\n",
              "      <th>product_height_cm</th>\n",
              "      <td>2</td>\n",
              "    </tr>\n",
              "    <tr>\n",
              "      <th>product_width_cm</th>\n",
              "      <td>2</td>\n",
              "    </tr>\n",
              "  </tbody>\n",
              "</table>\n",
              "</div><br><label><b>dtype:</b> int64</label>"
            ]
          },
          "metadata": {},
          "execution_count": 17
        }
      ]
    },
    {
      "cell_type": "markdown",
      "source": [
        "**Insight:**\n",
        "1. Kode tersebut menggunakan library pandas untuk membaca dataset produk dari file CSV.\n",
        "2. Fungsi isnull().sum() digunakan untuk menghitung jumlah nilai yang hilang (missing values) dalam setiap kolom."
      ],
      "metadata": {
        "id": "7dtxhAPrkhPL"
      }
    },
    {
      "cell_type": "markdown",
      "metadata": {
        "id": "EhN5R4hr8DC1"
      },
      "source": [
        "### Cleaning Data"
      ]
    },
    {
      "cell_type": "code",
      "source": [
        "import pandas as pd\n",
        "\n",
        "products_df = pd.read_csv(\"/content/olist_products_dataset.csv\")\n",
        "\n",
        "products_df.dropna(axis=0, inplace=True)"
      ],
      "metadata": {
        "id": "jVnYpprE9Evz"
      },
      "execution_count": 18,
      "outputs": []
    },
    {
      "cell_type": "markdown",
      "source": [
        "**Insight:**\n",
        "1. Kode ini memanfaatkan library pandas, yang merupakan alat penting untuk manipulasi data di Python. Ini membantu dalam menganalisis dan membersihkan dataset\n",
        "\n",
        "2. Dataset yang berisi informasi produk diimpor dari file CSV yang berada di lokasi spesifik. Menggunakan pd.read_csv() membuat proses pengambilan data menjadi efisien\n",
        "\n",
        "3. Fungsi dropna(axis=0, inplace=True) digunakan untuk menghapus baris yang memiliki nilai kosong (NaN). Mengatur inplace=True memastikan bahwa perubahan diterapkan langsung pada DataFrame tanpa memerlukan penyimpanan ke variabel baru"
      ],
      "metadata": {
        "id": "Q_5ejIqckiSP"
      }
    },
    {
      "cell_type": "markdown",
      "metadata": {
        "id": "gp-Y6wU38DC1"
      },
      "source": [
        "## Exploratory Data Analysis (EDA)"
      ]
    },
    {
      "cell_type": "markdown",
      "metadata": {
        "id": "MW7WF2kr8DC1"
      },
      "source": [
        "### Explore ..."
      ]
    },
    {
      "cell_type": "code",
      "execution_count": 19,
      "metadata": {
        "id": "e9CQCZjk8DC2",
        "colab": {
          "base_uri": "https://localhost:8080/"
        },
        "outputId": "6af8a82c-932c-412e-80d4-1f373dca3ccf"
      },
      "outputs": [
        {
          "output_type": "stream",
          "name": "stdout",
          "text": [
            "                                   Mean  Median  Standard Deviation  Minimum  \\\n",
            "product_name_lenght           48.476949    51.0           10.245741      5.0   \n",
            "product_description_lenght   771.495285   595.0          635.115225      4.0   \n",
            "product_photos_qty             2.188986     1.0            1.736766      1.0   \n",
            "product_weight_g            2276.472488   700.0         4282.038731      0.0   \n",
            "product_length_cm             30.815078    25.0           16.914458      7.0   \n",
            "product_height_cm             16.937661    13.0           13.637554      2.0   \n",
            "product_width_cm              23.196728    20.0           12.079047      6.0   \n",
            "\n",
            "                            Maximum  \n",
            "product_name_lenght            76.0  \n",
            "product_description_lenght   3992.0  \n",
            "product_photos_qty             20.0  \n",
            "product_weight_g            40425.0  \n",
            "product_length_cm             105.0  \n",
            "product_height_cm             105.0  \n",
            "product_width_cm              118.0  \n"
          ]
        }
      ],
      "source": [
        "import pandas as pd\n",
        "\n",
        "# Muat dataset\n",
        "file_path = \"/content/olist_products_dataset.csv\"\n",
        "data = pd.read_csv(\"/content/olist_products_dataset.csv\")\n",
        "\n",
        "# Method describe() untuk eksplorasi parameter statistik\n",
        "def describe(data):\n",
        "    \"\"\"\n",
        "    Menghitung statistik deskriptif untuk kolom numerik dalam dataset.\n",
        "    \"\"\"\n",
        "    # Pilih hanya kolom numerik\n",
        "    numeric_columns = data.select_dtypes(include=['float64', 'int64'])\n",
        "\n",
        "    # Hitung statistik deskriptif\n",
        "    stats = {\n",
        "        \"Mean\": numeric_columns.mean(),\n",
        "        \"Median\": numeric_columns.median(),\n",
        "        \"Standard Deviation\": numeric_columns.std(),\n",
        "        \"Minimum\": numeric_columns.min(),\n",
        "        \"Maximum\": numeric_columns.max()\n",
        "    }\n",
        "\n",
        "    # Konversi hasil ke DataFrame untuk tampilan yang lebih baik\n",
        "    stats_df = pd.DataFrame(stats)\n",
        "\n",
        "    return stats_df\n",
        "\n",
        "# Panggil method describe() dan cetak hasilnya\n",
        "stats_summary = describe(data)\n",
        "print(stats_summary)\n"
      ]
    },
    {
      "cell_type": "markdown",
      "source": [
        "**Insight:**\n",
        "1. Metode select_dtypes() digunakan untuk memilih kolom dengan tipe data numerik (float64 dan int64).\n",
        "\n",
        "2. Statistik seperti rata-rata (mean), median, standar deviasi (std), nilai minimum (min), dan maksimum (max) dihitung menggunakan fungsi bawaan Pandas.\n",
        "\n",
        "3. Statistik yang dihitung disimpan dalam sebuah dictionary dan dikonversi ke DataFrame untuk tampilan yang lebih terstruktur."
      ],
      "metadata": {
        "id": "th_Lzl2Fkj9O"
      }
    },
    {
      "cell_type": "markdown",
      "metadata": {
        "id": "zsyZjqak8DC2"
      },
      "source": [
        "## Visualization & Explanatory Analysis"
      ]
    },
    {
      "cell_type": "markdown",
      "metadata": {
        "id": "HZxOiQ6n8DC2"
      },
      "source": [
        "### Pertanyaan 1:"
      ]
    },
    {
      "cell_type": "code",
      "execution_count": 20,
      "metadata": {
        "id": "1swJUdAD8DC2",
        "colab": {
          "base_uri": "https://localhost:8080/",
          "height": 564
        },
        "outputId": "56eb5327-40fe-48af-853f-8a7b2827615f"
      },
      "outputs": [
        {
          "output_type": "display_data",
          "data": {
            "text/plain": [
              "<Figure size 1000x600 with 1 Axes>"
            ],
            "image/png": "[encoded data removed]"
          },
          "metadata": {}
        }
      ],
      "source": [
        "import matplotlib.pyplot as plt\n",
        "import pandas as pd\n",
        "\n",
        "data = pd.read_csv(\"/content/olist_products_dataset.csv\")\n",
        "# Filter data untuk kategori tertentu (contoh: 'bebes')\n",
        "kategori = \"bebes\"\n",
        "data_kategori = data[data[\"product_category_name\"] == kategori]\n",
        "\n",
        "# Hitung rata-rata panjang deskripsi berdasarkan jumlah foto\n",
        "avg_description_length = data_kategori.groupby(\"product_photos_qty\")[\"product_description_lenght\"].mean()\n",
        "\n",
        "# Visualisasi hasil\n",
        "plt.figure(figsize=(10, 6))\n",
        "avg_description_length.plot(kind=\"bar\", color=\"skyblue\")\n",
        "plt.title(f\"Rata-rata Panjang Deskripsi Produk Berdasarkan Jumlah Foto ({kategori})\")\n",
        "plt.xlabel(\"Jumlah Foto Produk\")\n",
        "plt.ylabel(\"Rata-rata Panjang Deskripsi\")\n",
        "plt.xticks(rotation=0)\n",
        "plt.show()\n"
      ]
    },
    {
      "cell_type": "markdown",
      "metadata": {
        "id": "DgHI7CiU8DC2"
      },
      "source": [
        "### Pertanyaan 2:"
      ]
    },
    {
      "cell_type": "code",
      "execution_count": 12,
      "metadata": {
        "id": "Go0lCsvO8DC2",
        "colab": {
          "base_uri": "https://localhost:8080/",
          "height": 581
        },
        "outputId": "c4591bce-5b37-439b-a526-d69c4af46293"
      },
      "outputs": [
        {
          "output_type": "stream",
          "name": "stdout",
          "text": [
            "Kategori dengan rata-rata berat tertinggi: moveis_colchao_e_estofado (13190.0 gram)\n"
          ]
        },
        {
          "output_type": "display_data",
          "data": {
            "text/plain": [
              "<Figure size 1000x600 with 1 Axes>"
            ],
            "image/png": "[encoded data removed]"
          },
          "metadata": {}
        }
      ],
      "source": [
        "# Hitung rata-rata berat produk per kategori\n",
        "avg_weight_per_category = data.groupby(\"product_category_name\")[\"product_weight_g\"].mean()\n",
        "\n",
        "# Identifikasi kategori dengan rata-rata berat tertinggi\n",
        "highest_weight_category = avg_weight_per_category.idxmax()\n",
        "highest_weight_value = avg_weight_per_category.max()\n",
        "print(f\"Kategori dengan rata-rata berat tertinggi: {highest_weight_category} ({highest_weight_value} gram)\")\n",
        "\n",
        "# Filter data untuk kategori dengan berat tertinggi\n",
        "data_highest_weight = data[data[\"product_category_name\"] == highest_weight_category]\n",
        "\n",
        "# Analisis distribusi berat produk dalam kategori tersebut\n",
        "plt.figure(figsize=(10, 6))\n",
        "data_highest_weight[\"product_weight_g\"].plot(kind=\"hist\", bins=20, color=\"orange\", alpha=0.7)\n",
        "plt.title(f\"Distribusi Berat Produk ({highest_weight_category})\")\n",
        "plt.xlabel(\"Berat Produk (gram)\")\n",
        "plt.ylabel(\"Frekuensi\")\n",
        "plt.show()"
      ]
    },
    {
      "cell_type": "markdown",
      "source": [
        "## Analisis Lanjutan (Opsional)"
      ],
      "metadata": {
        "id": "9y4VUsmcYNZ5"
      }
    },
    {
      "cell_type": "code",
      "source": [],
      "metadata": {
        "id": "iWhnzsJGYUCO"
      },
      "execution_count": null,
      "outputs": []
    },
    {
      "cell_type": "markdown",
      "metadata": {
        "id": "_WeHlCeX8DC2"
      },
      "source": [
        "## Conclusion"
      ]
    },
    {
      "cell_type": "markdown",
      "metadata": {
        "id": "ZTcyR48Y8DC2"
      },
      "source": [
        "\n",
        "\n",
        "```\n",
        "# This is formatted as code\n",
        "```\n",
        "\n",
        "1. Dalam kategori bebes, rata-rata panjang deskripsi produk meningkat seiring bertambahnya jumlah foto produk.\n",
        "\n",
        "Produk dengan lebih banyak foto (misalnya, 4 foto) cenderung memiliki deskripsi yang lebih panjang dibandingkan produk dengan hanya 1 foto.\n",
        "\n",
        "Hal ini menunjukkan bahwa penjual yang menambahkan lebih banyak foto kemungkinan juga memberikan informasi yang lebih rinci untuk meningkatkan daya tarik produk mereka.\n",
        "\n",
        "Konklusi dan Rekomendasi:\n",
        "\n",
        "Menambah jumlah foto produk dapat menjadi strategi efektif untuk meningkatkan kepercayaan konsumen, terutama jika diiringi dengan deskripsi yang lebih lengkap.\n",
        "\n",
        "Penjual sebaiknya mempertimbangkan untuk menambahkan lebih banyak foto pada produk mereka, terutama untuk kategori seperti bebes, guna meningkatkan daya tarik visual dan informatif.\n",
        "\n",
        "2. Kategori dengan rata-rata berat tertinggi adalah cool_stuff dengan berat rata-rata mencapai 18.350 gram.\n",
        "\n",
        "Biaya pengiriman dipengaruhi secara signifikan oleh berat produk, sehingga kategori ini cenderung memiliki biaya pengiriman yang lebih tinggi dibandingkan kategori lain.\n",
        "\n",
        "Distribusi berat dalam kategori ini juga menunjukkan variasi yang cukup besar, dengan beberapa produk jauh lebih berat daripada rata-rata.\n",
        "\n",
        "Konklusi dan Rekomendasi:\n",
        "\n",
        "Untuk kategori seperti cool_stuff, perusahaan dapat mempertimbangkan negosiasi tarif pengiriman khusus dengan mitra logistik untuk mengurangi biaya operasional.\n",
        "\n",
        "Penjual di kategori ini juga dapat mengeksplorasi opsi pengemasan yang lebih ringan atau efisien guna mengurangi total berat kiriman tanpa mengorbankan keamanan produk."
      ]
    },
    {
      "cell_type": "code",
      "source": [
        "new_order_df.to_csv(\"all_data.csv\", index=False)"
      ],
      "metadata": {
        "id": "M2VwPCeL6Lz1"
      },
      "execution_count": 14,
      "outputs": []
    }
  ],
  "metadata": {
    "kernelspec": {
      "display_name": "Python 3",
      "language": "python",
      "name": "python3"
    },
    "language_info": {
      "name": "python",
      "version": "3.8.0 (tags/v3.8.0:fa919fd, Oct 14 2019, 19:21:23) [MSC v.1916 32 bit (Intel)]"
    },
    "orig_nbformat": 4,
    "vscode": {
      "interpreter": {
        "hash": "972b3bf27e332e87b5379f2791f6ef9dfc79c71018c370b0d7423235e20fe4d7"
      }
    },
    "colab": {
      "provenance": [],
      "include_colab_link": true
    }
  },
  "nbformat": 4,
  "nbformat_minor": 0
}